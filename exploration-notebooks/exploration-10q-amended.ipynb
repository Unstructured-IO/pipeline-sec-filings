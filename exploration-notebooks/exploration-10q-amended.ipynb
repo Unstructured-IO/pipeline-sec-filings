{
 "cells": [
  {
   "cell_type": "markdown",
   "id": "ae311bc4",
   "metadata": {},
   "source": [
    "## Exploration Notebooks - 10Q(/A) SEC Filings\n",
    "\n",
    "Explore extracting narrative text for various sections in 10Q/A SEC Filings.\n",
    "Also shows parity with extracting content from 10Q Filings.\n",
    "\n",
    "#### Table of Contents\n",
    "\n",
    "1. [Adara Acquisition Corp](#adara)"
   ]
  },
  {
   "cell_type": "code",
   "execution_count": null,
   "id": "f89372ab",
   "metadata": {},
   "outputs": [],
   "source": [
    "%load_ext autoreload\n",
    "%autoreload 2"
   ]
  },
  {
   "cell_type": "markdown",
   "id": "88401860-43fb-42a9-b65e-05a962bdedec",
   "metadata": {},
   "source": [
    "### Adara Acquisition Corp <a id=\"adara\"></a>\n",
    "\n",
    "https://www.sec.gov/edgar/browse/?CIK=0001823584\n",
    "\n",
    "10-Q/A: https://www.sec.gov/ix?doc=/Archives/edgar/data/1823584/000141057822002776/adra-20220630x10qa.htm"
   ]
  },
  {
   "cell_type": "code",
   "execution_count": null,
   "id": "18f90b55",
   "metadata": {},
   "outputs": [],
   "source": [
    "import os\n",
    "from prepline_sec_filings.fetch import get_filing, get_forms_by_cik, _get_session\n",
    "from prepline_sec_filings.sec_document import SECDocument\n",
    "from prepline_sec_filings.sections import section_string_to_enum\n",
    "\n",
    "ticker = \"adra\"\n",
    "cik = \"0001823584\"\n",
    "from pprint import pprint\n",
    "\n",
    "# set envars to make sure User-Agent is set in all HTTP gets from the prepline_sec_filings.fetch\n",
    "# otherwise may get 403's from Edgar\n",
    "os.environ[\"SEC_API_ORGANIZATION\"] = \"Unstructured Technologies\"\n",
    "os.environ[\"SEC_API_EMAIL\"] = \"support@unstructured.io\""
   ]
  },
  {
   "cell_type": "code",
   "execution_count": null,
   "id": "23c3c14b",
   "metadata": {},
   "outputs": [
    {
     "name": "stdout",
     "output_type": "stream",
     "text": [
      "{'0000000000-20-009990': 'UPLOAD',\n",
      " '0000000000-21-001336': 'UPLOAD',\n",
      " '0000019617-22-000126': 'SC 13G',\n",
      " '0000019617-22-000383': 'SC 13G/A',\n",
      " '0001062993-21-006347': 'SC 13G',\n",
      " '0001062993-22-002545': 'SC 13G/A',\n",
      " '0001072613-22-000214': 'SC 13G',\n",
      " '0001104659-20-108995': 'DRS',\n",
      " '0001104659-20-126645': 'S-1',\n",
      " '0001104659-20-126648': 'CORRESP',\n",
      " '0001104659-21-003977': 'S-1/A',\n",
      " '0001104659-21-011342': 'S-1/A',\n",
      " '0001104659-21-011343': 'CORRESP',\n",
      " '0001104659-21-012346': 'CORRESP',\n",
      " '0001104659-21-012347': 'CORRESP',\n",
      " '0001104659-21-012735': '8-A12B',\n",
      " '0001104659-21-016206': '3',\n",
      " '0001104659-21-016207': '3',\n",
      " '0001104659-21-016208': '3',\n",
      " '0001104659-21-016209': '3',\n",
      " '0001104659-21-016210': '3',\n",
      " '0001104659-21-016211': '3',\n",
      " '0001104659-21-016212': '3',\n",
      " '0001104659-21-016213': '3',\n",
      " '0001104659-21-016229': '424B4',\n",
      " '0001104659-21-020996': '8-K',\n",
      " '0001104659-21-025280': '8-K',\n",
      " '0001104659-21-025614': 'SC 13G',\n",
      " '0001104659-21-039115': '8-K',\n",
      " '0001104659-21-068244': 'NT 10-Q',\n",
      " '0001104659-21-071297': '8-K',\n",
      " '0001104659-21-071360': '10-Q',\n",
      " '0001104659-21-105223': '10-Q',\n",
      " '0001104659-21-138251': '10-Q',\n",
      " '0001104659-21-152260': '8-K',\n",
      " '0001104659-22-067013': '8-K',\n",
      " '0001104659-22-073746': '8-K',\n",
      " '0001104659-22-073748': '425',\n",
      " '0001104659-22-075415': '425',\n",
      " '0001104659-22-078942': 'S-4',\n",
      " '0001104659-22-086533': '425',\n",
      " '0001104659-22-109429': 'S-4/A',\n",
      " '0001104659-22-109436': '8-K',\n",
      " '0001104659-22-109438': '425',\n",
      " '0001104659-22-110203': '8-K',\n",
      " '0001104659-22-110205': '425',\n",
      " '0001104659-22-115999': 'S-4/A',\n",
      " '0001104659-22-121761': 'S-4/A',\n",
      " '0001104659-22-122104': '8-K',\n",
      " '0001104659-22-122106': '425',\n",
      " '0001104659-22-123323': 'S-4/A',\n",
      " '0001104659-22-126320': '424B3',\n",
      " '0001104659-22-126364': 'DEFA14A',\n",
      " '0001104659-22-127181': '425',\n",
      " '0001143313-21-000005': 'CERT',\n",
      " '0001393825-22-000010': 'SC 13G',\n",
      " '0001410578-21-000577': '10-Q/A',\n",
      " '0001410578-22-000574': '10-K',\n",
      " '0001410578-22-001431': '10-Q',\n",
      " '0001410578-22-002300': '10-Q',\n",
      " '0001410578-22-002776': '10-Q/A',\n",
      " '0001410578-22-003168': '10-Q',\n",
      " '9999999995-21-000486': 'EFFECT',\n",
      " '9999999995-22-003513': 'EFFECT'}\n",
      "10-Q/A\n",
      "000141057822002776\n"
     ]
    }
   ],
   "source": [
    "session = _get_session(\"Unstructured Technologies\", \"support@unstructured.io\")\n",
    "forms = get_forms_by_cik(session, cik)\n",
    "pprint(forms) # to see other filings\n",
    "\n",
    "# 10-Q/A\n",
    "acc_with_dashes = \"0001410578-22-002776\"\n",
    "acc_num = acc_with_dashes.replace(\"-\",\"\")\n",
    "form_type = forms[acc_with_dashes]\n",
    "\n",
    "# plain old 10-Q, not 10-Q/A\n",
    "plain_old_10q_with_dashes = \"0001410578-22-002300\"\n",
    "plain_acc_num = plain_old_10q_with_dashes.replace(\"-\",\"\")\n",
    "plain_form_type = forms[plain_old_10q_with_dashes]\n",
    "\n",
    "print(form_type)\n",
    "print(acc_num)"
   ]
  },
  {
   "cell_type": "code",
   "execution_count": null,
   "id": "1aef6e6d",
   "metadata": {},
   "outputs": [
    {
     "name": "stdout",
     "output_type": "stream",
     "text": [
      "adra-10-QA-0001823584-000141057822002776.xbrl\n"
     ]
    },
    {
     "name": "stdout",
     "output_type": "stream",
     "text": [
      "adra-10-Q-0001823584-000141057822002300.xbrl\n"
     ]
    }
   ],
   "source": [
    "def get_and_write_filing(cik, acc_num, ticker, form_type):\n",
    "    text = get_filing(cik,\n",
    "                 acc_num, \n",
    "                 \"Unstructured Technologies, Inc.\", \n",
    "                 \"support@unstructured.io\")\n",
    "    if len(text) > 10000:\n",
    "        filing_fname = f\"{ticker}-{form_type}-{cik}-{acc_num}.xbrl\".replace(\"/\", \"\")\n",
    "        print(filing_fname)\n",
    "        with open(filing_fname, \"w\") as f:\n",
    "            f.write(text)\n",
    "    return SECDocument.from_string(text)\n",
    "\n",
    "sec_doc_10q_a = get_and_write_filing(cik, acc_num, ticker, form_type)\n",
    "sec_doc_10q = get_and_write_filing(cik, plain_acc_num, ticker, plain_form_type)"
   ]
  },
  {
   "cell_type": "code",
   "execution_count": null,
   "id": "71848be5",
   "metadata": {},
   "outputs": [
    {
     "name": "stdout",
     "output_type": "stream",
     "text": [
      " ===================================================== 10-Q/A\n"
     ]
    },
    {
     "name": "stdout",
     "output_type": "stream",
     "text": [
      "Table of Contents\n",
      "\n",
      "UNITED STATES\n",
      "\n",
      "SECURITIES AND EXCHANGE COMMISSION\n",
      "\n",
      "Washington, D.C. 20549\n",
      "\n",
      "FORM 10-Q/A\n",
      "\n",
      "Amendment No.1\n",
      "\n",
      "(MARK ONE)\n",
      "\n",
      "☒ QUARTERLY REPORT PURSUANT TO SECTION 13 OR 15(d) OF THE SECURIT\n",
      " ===================================================== 10-Q\n"
     ]
    },
    {
     "name": "stdout",
     "output_type": "stream",
     "text": [
      "Table of Contents\n",
      "\n",
      "UNITED STATES\n",
      "\n",
      "SECURITIES AND EXCHANGE COMMISSION\n",
      "\n",
      "Washington, D.C. 20549\n",
      "\n",
      "FORM 10-Q\n",
      "\n",
      "(MARK ONE)\n",
      "\n",
      "☒ QUARTERLY REPORT PURSUANT TO SECTION 13 OR 15(d) OF THE SECURITIES EXCHANGE ACT O\n"
     ]
    }
   ],
   "source": [
    "for sec_doc in (sec_doc_10q_a, sec_doc_10q):\n",
    "    print(f\" ===================================================== {sec_doc.filing_type}\")\n",
    "    print(str(sec_doc)[0:200])"
   ]
  },
  {
   "cell_type": "code",
   "execution_count": null,
   "id": "1d4ac11a",
   "metadata": {},
   "outputs": [],
   "source": [
    "def show_some_sections_for_sec_doc(sec_doc):\n",
    "    for section in (\"LEGAL_PROCEEDINGS\", \"RISK_FACTORS\", \"MANAGEMENT_DISCUSSION\"):\n",
    "        print(section)\n",
    "        elements = sec_doc.get_section_narrative(\n",
    "                section_string_to_enum[section])\n",
    "        for elem in elements[0:2]:\n",
    "            print(elem)\n",
    "        print(\"    ....\")\n",
    "        for elem in elements[-2:]:\n",
    "            print(elem)    \n",
    "        print(\"-----\")\n"
   ]
  },
  {
   "cell_type": "code",
   "execution_count": null,
   "id": "770ca0f3",
   "metadata": {},
   "outputs": [
    {
     "name": "stdout",
     "output_type": "stream",
     "text": [
      "LEGAL_PROCEEDINGS\n"
     ]
    },
    {
     "name": "stdout",
     "output_type": "stream",
     "text": [
      "    ....\n",
      "-----\n",
      "RISK_FACTORS\n"
     ]
    },
    {
     "name": "stdout",
     "output_type": "stream",
     "text": [
      "As of the date of this Quarterly Report there have been no changes to the risk factors disclosed in our Annual Report on Form 10-K filed with the SEC on March 28, 2022.\n",
      "    ....\n",
      "As of the date of this Quarterly Report there have been no changes to the risk factors disclosed in our Annual Report on Form 10-K filed with the SEC on March 28, 2022.\n",
      "-----\n",
      "MANAGEMENT_DISCUSSION\n"
     ]
    },
    {
     "name": "stdout",
     "output_type": "stream",
     "text": [
      "References in this report (the “Quarterly Report”) to “we,” “us” or the “Company” refer to Adara Acquisition Corp. References to our “management” or our “management team” refer to our officers and directors, and references to the “Sponsor” refer to Adara Sponsor LLC. The following discussion and analysis of the Company’s financial condition and results of operations should be read in conjunction with the financial statements and the notes thereto contained elsewhere in this Quarterly Report. Certain information contained in the discussion and analysis set forth below includes forward-looking statements that involve risks and uncertainties.\n",
      "This Quarterly Report includes “forward-looking statements” within the meaning of Section 27A of the Securities Act of 1933, as amended and Section 21E of the Exchange Act of 1934, as amended (the “Exchange Act”) that are not historical facts and involve risks and uncertainties that could cause actual results to differ materially from those expected and projected. All statements, other than statements of historical fact included in this Quarterly Report including, without limitation, statements in this “Management’s Discussion and Analysis of Financial Condition and Results of Operations” regarding the completion of the Proposed Business Combination (as defined below), the Company’s financial position, business strategy and the plans and objectives of management for future operations, are forward-looking statements. Words such as “expect,” “believe,” “anticipate,” “intend,” “estimate,” “seek” and variations and similar words and expressions are intended to identify such forward-looking statements. Such forward-looking statements relate to future events or future performance, but reflect management’s current beliefs, based on information currently available. A number of factors could cause actual events, performance or results to differ materially from the events, performance and results discussed in the forward-looking statements, including that the conditions of the Proposed Business Combination are not satisfied. For information identifying important factors that could cause actual results to differ materially from those anticipated in the forward-looking statements, please refer to the Risk Factors section of the Company’s Annual Report on Form 10-K filed with the U.S. Securities and Exchange Commission (the “SEC”). The Company’s securities filings can be accessed on the EDGAR section of the SEC’s website at www.sec.gov. Except as expressly required by applicable securities law, the Company disclaims any intention or obligation to update or revise any forward-looking statements whether as a result of new information, future events or otherwise.\n",
      "    ....\n",
      "Net income (loss) per common share is computed by dividing net income (loss) by the weighted average number of common shares outstanding during the period. We apply the two-class method in calculating income (loss) per common share, evenly allocating the net income (loss) to each class of stock. The deemed dividend associated with the redeemable shares of Class A common stock is included in income (loss) per common share in the IPO quarter and year to date calculation in which the IPO occurred.\n",
      "Management does not believe that any recently issued, but not yet effective, accounting standards, if currently adopted, would have a material effect on our condensed financial statements.\n",
      "-----\n"
     ]
    }
   ],
   "source": [
    "show_some_sections_for_sec_doc(sec_doc_10q_a)"
   ]
  },
  {
   "cell_type": "code",
   "execution_count": null,
   "id": "6d780f69-29ce-4e84-bf52-c5ca08cbdc03",
   "metadata": {},
   "outputs": [
    {
     "name": "stdout",
     "output_type": "stream",
     "text": [
      "LEGAL_PROCEEDINGS\n"
     ]
    },
    {
     "name": "stdout",
     "output_type": "stream",
     "text": [
      "    ....\n",
      "-----\n",
      "RISK_FACTORS\n"
     ]
    },
    {
     "name": "stdout",
     "output_type": "stream",
     "text": [
      "As of the date of this Quarterly Report there have been no changes to the risk factors disclosed in our Annual Report on Form 10-K filed with the SEC on March 28, 2022.\n",
      "    ....\n",
      "As of the date of this Quarterly Report there have been no changes to the risk factors disclosed in our Annual Report on Form 10-K filed with the SEC on March 28, 2022.\n",
      "-----\n",
      "MANAGEMENT_DISCUSSION\n"
     ]
    },
    {
     "name": "stdout",
     "output_type": "stream",
     "text": [
      "References in this report (the “Quarterly Report”) to “we,” “us” or the “Company” refer to Adara Acquisition Corp. References to our “management” or our “management team” refer to our officers and directors, and references to the “Sponsor” refer to Adara Sponsor LLC. The following discussion and analysis of the Company’s financial condition and results of operations should be read in conjunction with the financial statements and the notes thereto contained elsewhere in this Quarterly Report. Certain information contained in the discussion and analysis set forth below includes forward-looking statements that involve risks and uncertainties.\n",
      "This Quarterly Report includes “forward-looking statements” within the meaning of Section 27A of the Securities Act of 1933, as amended and Section 21E of the Exchange Act of 1934, as amended (the “Exchange Act”) that are not historical facts and involve risks and uncertainties that could cause actual results to differ materially from those expected and projected. All statements, other than statements of historical fact included in this Quarterly Report including, without limitation, statements in this “Management’s Discussion and Analysis of Financial Condition and Results of Operations” regarding the completion of the Proposed Business Combination (as defined below), the Company’s financial position, business strategy and the plans and objectives of management for future operations, are forward-looking statements. Words such as “expect,” “believe,” “anticipate,” “intend,” “estimate,” “seek” and variations and similar words and expressions are intended to identify such forward-looking statements. Such forward-looking statements relate to future events or future performance, but reflect management’s current beliefs, based on information currently available. A number of factors could cause actual events, performance or results to differ materially from the events, performance and results discussed in the forward-looking statements, including that the conditions of the Proposed Business Combination are not satisfied. For information identifying important factors that could cause actual results to differ materially from those anticipated in the forward-looking statements, please refer to the Risk Factors section of the Company’s Annual Report on Form 10-K filed with the U.S. Securities and Exchange Commission (the “SEC”). The Company’s securities filings can be accessed on the EDGAR section of the SEC’s website at www.sec.gov. Except as expressly required by applicable securities law, the Company disclaims any intention or obligation to update or revise any forward-looking statements whether as a result of new information, future events or otherwise.\n",
      "    ....\n",
      "Net income (loss) per common share is computed by dividing net income (loss) by the weighted average number of common shares outstanding during the period. We apply the two-class method in calculating income (loss) per common share, evenly allocating the net income (loss) to each class of stock. The deemed dividend associated with the redeemable shares of Class A common stock is included in income (loss) per common share in the IPO quarter and year to date calculation in which the IPO occurred.\n",
      "Management does not believe that any recently issued, but not yet effective, accounting standards, if currently adopted, would have a material effect on our condensed financial statements.\n",
      "-----\n"
     ]
    }
   ],
   "source": [
    "show_some_sections_for_sec_doc(sec_doc_10q)"
   ]
  },
  {
   "cell_type": "markdown",
   "id": "69bf6e6e-af67-4156-9b52-baeae39074cc",
   "metadata": {},
   "source": [
    "### To verify API is handling both the 10-Q and 10-Q/A filings saved by this notebook:\n",
    "\n",
    "    curl -X 'POST'   'http://127.0.0.1:8000/sec-filings/v0.2.0/section' \\\n",
    "         -H 'accept: application/json' \\\n",
    "         -H 'Content-Type: multipart/form-data' \\\n",
    "         -F 'file=@adra-10-QA-0001823584-000141057822002776.xbrl' \\\n",
    "         -F section=RISK_FACTORS -F section=MANAGEMENT_DISCUSSION | jq . | grep -A5 -P '(RISK_FACTORS|MANAGEMENT_DISCUSSION)' \n",
    "         \n",
    "    curl -X 'POST'   'http://127.0.0.1:8000/sec-filings/v0.2.0/section' \\\n",
    "         -H 'accept: application/json' \\\n",
    "         -H 'Content-Type: multipart/form-data' \\\n",
    "         -F 'file=@adra-10-Q-0001823584-000141057822002300.xbrl' \\\n",
    "         -F section=RISK_FACTORS -F section=MANAGEMENT_DISCUSSION | jq . | grep -A5 -P '(RISK_FACTORS|MANAGEMENT_DISCUSSION)'          \n",
    "\n",
    "Output for both looks something like:\n",
    "\n",
    "```\n",
    "  \"RISK_FACTORS\": [\n",
    "    {\n",
    "      \"text\": \"As of the date of this Quarterly Report there have been no changes to the risk factors disclosed in our Annual Report on Form 10-K filed with the SEC on March 28, 2022.\",\n",
    "      \"type\": \"NarrativeText\"\n",
    "    }\n",
    "  ],\n",
    "  \"MANAGEMENT_DISCUSSION\": [\n",
    "    {\n",
    "      \"text\": \"References in this report (the “Quarterly Report”) to “we,” “us” or the “Company” refer to Adara Acquisition Corp. References to our “management” or our “management team” refer to our officers and directors, and references to the “Sponsor” refer to Adara Sponsor LLC. The following discussion and analysis of the Company’s financial condition and results of operations should be read in conjunction with the financial statements and the notes thereto contained elsewhere in this Quarterly Report. Certain information contained in the discussion and analysis set forth below includes forward-looking statements that involve risks and uncertainties.\",\n",
    "      \"type\": \"NarrativeText\"\n",
    "    },\n",
    "    {\n",
    "```"
   ]
  },
  {
   "cell_type": "code",
   "execution_count": null,
   "id": "69748ae0-7c15-474b-b588-a9c8554fa22d",
   "metadata": {},
   "outputs": [],
   "source": [
    "from prepline_sec_filings.fetch import get_form_by_cik"
   ]
  },
  {
   "cell_type": "code",
   "execution_count": null,
   "id": "2daf77ac-b359-4005-8f03-f0b0d488a4b0",
   "metadata": {},
   "outputs": [],
   "source": [
    "filing_10q_amendment_ok = get_form_by_cik(cik, \"10-Q\")\n",
    "filing_10q_strict = get_form_by_cik(cik, \"10-Q\", allow_amended_filing=False)\n",
    "filing_10q_amendment_strict = get_form_by_cik(cik, \"10-Q/A\")"
   ]
  },
  {
   "cell_type": "code",
   "execution_count": null,
   "id": "032d1b81-5b5b-4f21-a395-1c7c1bc4c641",
   "metadata": {},
   "outputs": [
    {
     "name": "stdout",
     "output_type": "stream",
     "text": [
      "<SEC-DOCUMENT>0001410578-22-003168.txt : 20221110\n",
      "<SEC-HEADER>0001410578-22-003168.hdr.sgml : 20221110\n",
      "<ACCEPTANCE-DATETIME>20221110170321\n",
      "ACCESSION NUMBER:\t\t0001410578-22-003168\n",
      "CONFORMED SUBMISSION TYPE:\t10-Q\n",
      "PUBLIC DOCUMENT COUNT:\t\t53\n",
      "CONFORMED PERIOD OF REPORT:\t20220930\n",
      "FILED AS OF DATE:\t\t202211\n"
     ]
    }
   ],
   "source": [
    "print(filing_10q_amendment_ok[:300])"
   ]
  },
  {
   "cell_type": "code",
   "execution_count": null,
   "id": "6fbff6ad-ad39-45a3-bb67-68c3a03f4dac",
   "metadata": {},
   "outputs": [
    {
     "name": "stdout",
     "output_type": "stream",
     "text": [
      "<SEC-DOCUMENT>0001410578-22-003168.txt : 20221110\n",
      "<SEC-HEADER>0001410578-22-003168.hdr.sgml : 20221110\n",
      "<ACCEPTANCE-DATETIME>20221110170321\n",
      "ACCESSION NUMBER:\t\t0001410578-22-003168\n",
      "CONFORMED SUBMISSION TYPE:\t10-Q\n",
      "PUBLIC DOCUMENT COUNT:\t\t53\n",
      "CONFORMED PERIOD OF REPORT:\t20220930\n",
      "FILED AS OF DATE:\t\t202211\n"
     ]
    }
   ],
   "source": [
    "print(filing_10q_strict[:300])"
   ]
  },
  {
   "cell_type": "code",
   "execution_count": null,
   "id": "f8dce98a-f788-452d-8f75-92d7f06d549d",
   "metadata": {},
   "outputs": [
    {
     "name": "stdout",
     "output_type": "stream",
     "text": [
      "<SEC-DOCUMENT>0001410578-22-002776.txt : 20220912\n",
      "<SEC-HEADER>0001410578-22-002776.hdr.sgml : 20220912\n",
      "<ACCEPTANCE-DATETIME>20220912160154\n",
      "ACCESSION NUMBER:\t\t0001410578-22-002776\n",
      "CONFORMED SUBMISSION TYPE:\t10-Q/A\n",
      "PUBLIC DOCUMENT COUNT:\t\t53\n",
      "CONFORMED PERIOD OF REPORT:\t20220630\n",
      "FILED AS OF DATE:\t\t2022\n"
     ]
    }
   ],
   "source": [
    "print(filing_10q_amendment_strict[:300])"
   ]
  }
 ],
 "metadata": {
  "kernelspec": {
   "display_name": "python3",
   "language": "python",
   "name": "python3"
  }
 },
 "nbformat": 4,
 "nbformat_minor": 5
}
