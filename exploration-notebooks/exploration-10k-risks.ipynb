{
 "cells": [
  {
   "cell_type": "markdown",
   "id": "14a418c0",
   "metadata": {},
   "source": [
    "## Exploration Notebooks - 10-K/10-Q Documents\n",
    "\n",
    "The purpose of this notebook is to demonstrate the logic for extracting narrative text from the risk factors section in 10-K and 10-Q filings. \n",
    "\n",
    "#### Table of Contents\n",
    "\n",
    "1. [WABC Filing](#wabc)\n",
    "2. [Palantir Filing](#palantir)"
   ]
  },
  {
   "cell_type": "code",
   "execution_count": null,
   "id": "60bfe980",
   "metadata": {},
   "outputs": [],
   "source": [
    "%load_ext autoreload\n",
    "%autoreload 2"
   ]
  },
  {
   "cell_type": "code",
   "execution_count": null,
   "id": "768fa8c6",
   "metadata": {},
   "outputs": [],
   "source": [
    "from prepline_sec_filings.fetch import get_filing, get_form_by_ticker\n",
    "from prepline_sec_filings.sec_document import SECDocument"
   ]
  },
  {
   "cell_type": "markdown",
   "id": "62c97cdc",
   "metadata": {},
   "source": [
    "### Westamerica Bancorp Filing <a id=\"wabc\"></a>\n",
    "\n",
    "This section pulls in the latest WABC 10-K filing from the SEC site, which is available [here](https://www.sec.gov/Archives/edgar/data/311094/000117184322001403/wabc20211231_10k.htm). The goal is to identify the [risk factors](https://www.sec.gov/Archives/edgar/data/311094/000117184321001344/wabc20201231_10k.htm#i1a) section."
   ]
  },
  {
   "cell_type": "code",
   "execution_count": null,
   "id": "a8998e87",
   "metadata": {},
   "outputs": [],
   "source": [
    "text = get_form_by_ticker(ticker=\"WABC\",\n",
    "                          form_type=\"10-K\",\n",
    "                          company=\"Unstructured Technologies\",\n",
    "                          email=\"support@unstructured.io\")"
   ]
  },
  {
   "cell_type": "code",
   "execution_count": null,
   "id": "6b9303a6",
   "metadata": {},
   "outputs": [],
   "source": [
    "sec_document = SECDocument.from_string(text)"
   ]
  },
  {
   "cell_type": "code",
   "execution_count": null,
   "id": "35c0e709",
   "metadata": {},
   "outputs": [
    {
     "data": {
      "text/plain": [
       "'10-K'"
      ]
     },
     "execution_count": null,
     "metadata": {},
     "output_type": "execute_result"
    }
   ],
   "source": [
    "sec_document.filing_type"
   ]
  },
  {
   "cell_type": "code",
   "execution_count": null,
   "id": "c8e0cad6",
   "metadata": {},
   "outputs": [],
   "source": [
    "from prepline_sec_filings.sections import SECSection\n",
    "risk_sections = sec_document.get_section_narrative(SECSection.RISK_FACTORS)"
   ]
  },
  {
   "cell_type": "markdown",
   "id": "a2360e6c",
   "metadata": {},
   "source": [
    "From the cells below, we can see that the `get_risk_narrative` method section successfully identified the risk section in the document."
   ]
  },
  {
   "cell_type": "code",
   "execution_count": null,
   "id": "ab4c2c4f",
   "metadata": {},
   "outputs": [
    {
     "name": "stdout",
     "output_type": "stream",
     "text": [
      "Readers and prospective investors in the Company’s securities should carefully consider the following risk factors as well as the other information contained or incorporated by reference in this Report.\n"
     ]
    }
   ],
   "source": [
    "print(risk_sections[0])"
   ]
  },
  {
   "cell_type": "code",
   "execution_count": null,
   "id": "f6aa34d0",
   "metadata": {},
   "outputs": [
    {
     "name": "stdout",
     "output_type": "stream",
     "text": [
      "Management regularly reviews and updates the Company’s internal control over financial reporting, disclosure controls and procedures, and corporate governance policies and procedures. The Company maintains controls and procedures to mitigate against risks such as processing system failures and errors, and customer or employee fraud, and maintains insurance coverage for certain of these risks. Any system of controls and procedures, however well designed and operated, is based in part on certain assumptions and can provide only reasonable, not absolute, assurances that the objectives of the system are met. Events could occur which are not prevented or detected by the Company’s internal controls or are not insured against or are in excess of the Company’s insurance limits or insurance underwriters’ financial capacity. Any failure or circumvention of the Company’s controls and procedures or failure to comply with regulations related to controls and procedures could have a material adverse effect on the Company’s business, results of operations and financial condition.\n"
     ]
    }
   ],
   "source": [
    "print(risk_sections[-1])"
   ]
  },
  {
   "cell_type": "markdown",
   "id": "d763903a",
   "metadata": {},
   "source": [
    "### Palantir Filing <a id=\"palantir\"></a>\n",
    "\n",
    "This section pulls in an old version of the Palantir 10-Q filing from the SEC site, which is available [here](https://www.sec.gov/Archives/edgar/data/1321655/000119312520292177/d31861d10q.htm). The goal is to identify the [risk factors](https://www.sec.gov/Archives/edgar/data/1321655/000119312520292177/d31861d10q.htm#fin31861_13) section."
   ]
  },
  {
   "cell_type": "code",
   "execution_count": null,
   "id": "8f16fa12",
   "metadata": {},
   "outputs": [],
   "source": [
    "text = get_filing(\"1321655\",\n",
    "                  \"000119312520292177\", \n",
    "                  \"Unstructured Technologies\",\n",
    "                  \"support@unstructured.io\")"
   ]
  },
  {
   "cell_type": "code",
   "execution_count": null,
   "id": "adaeaea9",
   "metadata": {},
   "outputs": [],
   "source": [
    "sec_document = SECDocument.from_string(text)"
   ]
  },
  {
   "cell_type": "code",
   "execution_count": null,
   "id": "7f999efc",
   "metadata": {},
   "outputs": [
    {
     "data": {
      "text/plain": [
       "'10-Q'"
      ]
     },
     "execution_count": null,
     "metadata": {},
     "output_type": "execute_result"
    }
   ],
   "source": [
    "sec_document.filing_type"
   ]
  },
  {
   "cell_type": "code",
   "execution_count": null,
   "id": "31c6690a",
   "metadata": {},
   "outputs": [],
   "source": [
    "risk_sections = sec_document.get_section_narrative(SECSection.RISK_FACTORS)"
   ]
  },
  {
   "cell_type": "markdown",
   "id": "a322b2c8",
   "metadata": {},
   "source": [
    "From the cells below, we can see that the `get_risk_narrative` method section successfully identified the risk section in the document."
   ]
  },
  {
   "cell_type": "code",
   "execution_count": null,
   "id": "aeda557f",
   "metadata": {},
   "outputs": [
    {
     "name": "stdout",
     "output_type": "stream",
     "text": [
      "Investing in our Class A common stock involves a high degree of risk. You should carefully consider the risks and uncertainties\n",
      "described below, together with all of the other information in this Quarterly Report on Form 10-Q, including the section titled “Management’s Discussion and Analysis of Financial Condition and\n",
      "Results of Operations” and our consolidated financial statements and accompanying notes, before making a decision to invest in our Class A common stock. Our business, financial condition, results of operations, or prospects could also be\n",
      "harmed by risks and uncertainties not currently known to us or that we currently do not believe are material. If any of the risks actually occur, our business, financial condition, results of operations, and prospects could be adversely affected. In\n",
      "that event, the trading price of our Class A common stock could decline, and you could lose part or all of your investment.\n"
     ]
    }
   ],
   "source": [
    "print(risk_sections[0])"
   ]
  },
  {
   "cell_type": "code",
   "execution_count": null,
   "id": "b6fb276c",
   "metadata": {},
   "outputs": [
    {
     "name": "stdout",
     "output_type": "stream",
     "text": [
      "Future issuances of our Class A common stock will dilute the voting power of our Class A common stockholders and future issuances to\n",
      "stockholders other than our Founders who are then party to the Founder Voting Agreement will dilute the economic interests of our Founders. However, because the shares of Class F common stock have variable voting rights, in the event that our\n",
      "Founders have less than 49.999999% of the voting power of our capital stock prior to giving effect to the voting power of the Class F common stock, future issuances of Class A common stock to stockholders other than our Founders will not\n",
      "result in dilution of the voting power of our Founders who are then party to the Founder Voting Agreement, but rather, will correspondingly increase the voting power of the Class F common stock. For instance, if the Founders who are party to\n",
      "the Founder Voting Agreement have 30% of the voting power of our outstanding capital stock in aggregate prior to giving effect to the voting power of the Class F common stock, the Class F common stock would have up to 19.999999% of our\n",
      "voting power resulting in such Founders having up to 49.999999% of our voting power. If we were to issue additional shares of our capital stock entitled to 10% of our voting power in aggregate to stockholders other than our Founders, then our\n",
      "Founders who are party to the Founder Voting Agreement would have approximately 27% of our voting power, and the Class F common stock would have up to approximately 22.999999% of our voting power, resulting in such Founders having up to\n",
      "49.999999% of our voting power. Any future issuances of additional shares of Class A common stock will not be subject to approval by our stockholders except as required by the listing standards of the NYSE. In addition, it may be very difficult\n",
      "for our Class A common stockholders to determine from time to time, including in advance of a meeting of stockholders, their individual or aggregate voting power due to the unique features of our multi-class capital structure, such as the\n",
      "variable number of votes per share of our Class F common stock.\n"
     ]
    }
   ],
   "source": [
    "print(risk_sections[-1])"
   ]
  },
  {
   "cell_type": "code",
   "execution_count": null,
   "id": "69a6681e",
   "metadata": {},
   "outputs": [],
   "source": []
  }
 ],
 "metadata": {
  "kernelspec": {
   "display_name": "python3",
   "language": "python",
   "name": "python3"
  }
 },
 "nbformat": 4,
 "nbformat_minor": 5
}
