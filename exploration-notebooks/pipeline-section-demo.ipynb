{
 "cells": [
  {
   "cell_type": "markdown",
   "id": "ef7df371",
   "metadata": {},
   "source": [
    "# SEC Filing Section Pipeline\n",
    "\n",
    "This notebook defines the pipeline for extracting the narrative text sections\n",
    "from the 10-K, 10-Q, and S-1 filings. This notebook contains both\n",
    "exploration code and the code for defining the API. Code cells marked\n",
    "with `#pipeline-api` are included in the API definition.\n",
    "\n",
    "To demonstrate how off-the-shelf Unstructured Bricks extract\n",
    "meaningful data from complex source documents, we will apply\n",
    "a series of Bricks with explanations before defining the API.\n",
    "\n",
    "#### Table of Contents\n",
    "\n",
    "1. [Pulling in Raw Documents](#raw)\n",
    "1. [Reading the Document](#reading)\n",
    "1. [Custom Partitioning Bricks](#custom)\n",
    "1. [Cleaning Bricks](#cleaning)\n",
    "1. [Staging Bricks](#staging)\n",
    "1. [Define the Pipeline API](#pipeline)"
   ]
  },
  {
   "cell_type": "markdown",
   "id": "ce437859",
   "metadata": {},
   "source": [
    "## Section 1: Pulling in Raw Documents <a id=\"raw\"></a>"
   ]
  },
  {
   "cell_type": "code",
   "execution_count": null,
   "id": "8b5350cc",
   "metadata": {},
   "outputs": [],
   "source": [
    "from prepline_sec_filings.fetch import (\n",
    "    get_form_by_ticker, open_form_by_ticker\n",
    ")\n",
    "\n",
    "text = get_form_by_ticker(\n",
    "    'rgld', \n",
    "    '10-K', \n",
    "    company='Unstructured Technologies', \n",
    "    email='support@unstructured.io'\n",
    ")"
   ]
  },
  {
   "cell_type": "code",
   "execution_count": null,
   "id": "be77e966",
   "metadata": {},
   "outputs": [],
   "source": [
    "print(text[1375:3284])"
   ]
  },
  {
   "cell_type": "markdown",
   "id": "fad407f5",
   "metadata": {},
   "source": [
    "```json\n",
    "[\n",
    "  {\n",
    "    \"text\": \"You should carefully consider the risks described in this section. Our future performance is subject to risks and uncertainties that could have a material adverse effect on our business, results of operations, and financial condition and the trading price of our common stock. We may be subject to other risks and uncertainties not presently known to us. In addition, please see our note about forward-looking statements included in the MD&A.\",\n",
    "    \"type\": \"NarrativeText\"\n",
    "  },\n",
    "  {\n",
    "    \"text\": \"Our revenue is subject to volatility in metal prices, which could negatively affect our results of operations or cash flow.\",\n",
    "    \"type\": \"NarrativeText\"\n",
    "  },\n",
    "  {\n",
    "    \"text\": \"Market prices for gold, silver, copper, nickel, and other metals may fluctuate widely over time and are affected by numerous factors beyond our control. These factors include metal supply and demand, industrial and jewelry fabrication, investment demand, central banking actions, inflation expectations, currency values, interest rates, forward sales by metal producers, and political, trade, economic, or banking conditions.\",\n",
    "    \"type\": \"NarrativeText\"\n",
    "  },\n",
    "```"
   ]
  },
  {
   "cell_type": "markdown",
   "id": "eb2b1aa0",
   "metadata": {},
   "source": [
    "## Section 2: Reading the Document <a id=\"reading\"></a>"
   ]
  },
  {
   "cell_type": "code",
   "execution_count": null,
   "id": "7d1cbf28",
   "metadata": {},
   "outputs": [],
   "source": [
    "from unstructured.documents.html import HTMLDocument\n",
    "\n",
    "html_document = HTMLDocument.from_string(text).doc_after_cleaners(skip_headers_and_footers=True, skip_table_text=True)"
   ]
  },
  {
   "cell_type": "code",
   "execution_count": null,
   "id": "7352e9fa",
   "metadata": {},
   "outputs": [],
   "source": [
    "for element in html_document.pages[0].elements[71:75]:\n",
    "    print(element)\n",
    "    print(\"\\n\")"
   ]
  },
  {
   "cell_type": "code",
   "execution_count": null,
   "id": "28461ad4",
   "metadata": {},
   "outputs": [],
   "source": [
    "html_document.pages[0].elements[71:75]"
   ]
  },
  {
   "cell_type": "code",
   "execution_count": null,
   "id": "b33d8a6b",
   "metadata": {},
   "outputs": [],
   "source": [
    "from unstructured.nlp.partition import is_possible_title\n",
    "\n",
    "is_possible_title(\"Regulation\")"
   ]
  },
  {
   "cell_type": "code",
   "execution_count": null,
   "id": "8c8f59e4",
   "metadata": {},
   "outputs": [],
   "source": [
    "is_possible_title(\"\"\"Operators of the mines that are subject to our \n",
    "stream and royalty interests must comply with numerous environmental, \n",
    "mine safety, land use, waste disposal, remediation and public health \n",
    "laws and regulations promulgated by federal, state, provincial and \n",
    "local governments in the United States, Canada, Chile, the Dominican \n",
    "Republic, Ghana, Mexico, Botswana, Australia and other countries where \n",
    "we hold interests. Although we, as a stream or royalty interest owner, \n",
    "are not\"\"\")"
   ]
  },
  {
   "cell_type": "code",
   "execution_count": null,
   "id": "b67a1722",
   "metadata": {},
   "outputs": [],
   "source": [
    "from unstructured.nlp.partition import is_possible_narrative_text\n",
    "\n",
    "is_possible_narrative_text(\"Regulation\")"
   ]
  },
  {
   "cell_type": "code",
   "execution_count": null,
   "id": "3003af93",
   "metadata": {},
   "outputs": [],
   "source": [
    "is_possible_narrative_text(\"\"\"Operators of the mines that are subject to our \n",
    "stream and royalty interests must comply with numerous environmental, \n",
    "mine safety, land use, waste disposal, remediation and public health \n",
    "laws and regulations promulgated by federal, state, provincial and \n",
    "local governments in the United States, Canada, Chile, the Dominican \n",
    "Republic, Ghana, Mexico, Botswana, Australia and other countries where \n",
    "we hold interests. Although we, as a stream or royalty interest owner, \n",
    "are not\"\"\")"
   ]
  },
  {
   "cell_type": "markdown",
   "id": "32d7513f",
   "metadata": {},
   "source": [
    "## Section 3: Custom Partitioning Bricks <a id=\"custom\"></a>"
   ]
  },
  {
   "cell_type": "code",
   "execution_count": null,
   "id": "407222da",
   "metadata": {},
   "outputs": [],
   "source": [
    "import re\n",
    "from unstructured.documents.elements import Title"
   ]
  },
  {
   "cell_type": "code",
   "execution_count": null,
   "id": "55571113",
   "metadata": {},
   "outputs": [],
   "source": [
    "ITEM_TITLE_RE = re.compile(\n",
    "    r\"(?i)item \\d{1,3}(?:[a-z]|\\([a-z]\\))?(?:\\.)?(?::)?\"\n",
    ")"
   ]
  },
  {
   "cell_type": "code",
   "execution_count": null,
   "id": "e6d07983",
   "metadata": {},
   "outputs": [],
   "source": [
    "def is_10k_item_title(title: str) -> bool:\n",
    "    \"\"\"Determines if a title corresponds to a 10-K item heading.\"\"\"\n",
    "    return ITEM_TITLE_RE.match(title) is not None"
   ]
  },
  {
   "cell_type": "code",
   "execution_count": null,
   "id": "bebffdaf",
   "metadata": {},
   "outputs": [],
   "source": [
    "for element in html_document.elements:\n",
    "    if isinstance(element, Title) and is_10k_item_title(element.text):\n",
    "        print(element)"
   ]
  },
  {
   "cell_type": "markdown",
   "id": "f64d54c3",
   "metadata": {},
   "source": [
    "## Section 4: Cleaning Bricks <a id=\"cleaning\"></a>"
   ]
  },
  {
   "cell_type": "code",
   "execution_count": null,
   "id": "04638330",
   "metadata": {},
   "outputs": [],
   "source": [
    "from unstructured.cleaners.core import clean\n",
    "def clean_sec_docs(text):\n",
    "    return clean(text, extra_whitespace=True, dashes=True, trailing_punctuation=True)"
   ]
  },
  {
   "cell_type": "code",
   "execution_count": null,
   "id": "a47bbb09-4745-4aaf-9c64-849f54bded6d",
   "metadata": {},
   "outputs": [],
   "source": [
    "for element in html_document.elements:\n",
    "    element.text = clean_sec_docs(element.text)\n",
    "    if isinstance(element, Title) and is_10k_item_title(element.text):\n",
    "        print(element)"
   ]
  },
  {
   "cell_type": "code",
   "execution_count": null,
   "id": "394561e4",
   "metadata": {},
   "outputs": [],
   "source": [
    "# pipeline-api\n",
    "from prepline_sec_filings.sections import section_string_to_enum, validate_section_names, SECSection\n",
    "from prepline_sec_filings.sec_document import SECDocument, REPORT_TYPES, VALID_FILING_TYPES"
   ]
  },
  {
   "cell_type": "code",
   "execution_count": null,
   "id": "247f3d20",
   "metadata": {},
   "outputs": [],
   "source": [
    "sec_document = SECDocument.from_string(text)\n",
    "risk_narrative = sec_document.get_section_narrative(SECSection.RISK_FACTORS)"
   ]
  },
  {
   "cell_type": "code",
   "execution_count": null,
   "id": "5afb5b54",
   "metadata": {},
   "outputs": [],
   "source": [
    "for element in risk_narrative[:3]:\n",
    "    print(element)\n",
    "    print(\"\\n\")"
   ]
  },
  {
   "cell_type": "markdown",
   "id": "5a9a3d90",
   "metadata": {},
   "source": [
    "## Section 5: Staging Bricks <a id=\"staging\"></a>"
   ]
  },
  {
   "cell_type": "code",
   "execution_count": null,
   "id": "55f28884",
   "metadata": {},
   "outputs": [],
   "source": [
    "from unstructured.staging.label_studio import stage_for_label_studio"
   ]
  },
  {
   "cell_type": "code",
   "execution_count": null,
   "id": "aaf2400e",
   "metadata": {},
   "outputs": [],
   "source": [
    "label_studio_data = stage_for_label_studio(risk_narrative)\n",
    "label_studio_data[:5]"
   ]
  },
  {
   "cell_type": "markdown",
   "id": "ce62f651",
   "metadata": {},
   "source": [
    "## Section 6: Define the Pipeline API <a id=\"pipeline\"></a>"
   ]
  },
  {
   "cell_type": "code",
   "execution_count": null,
   "id": "d6cb712f",
   "metadata": {},
   "outputs": [],
   "source": [
    "# pipeline-api\n",
    "from unstructured.staging.base import convert_to_isd\n",
    "from prepline_sec_filings.sections import ALL_SECTIONS, SECTIONS_10K, SECTIONS_S1"
   ]
  },
  {
   "cell_type": "code",
   "execution_count": null,
   "id": "c8e0cad6",
   "metadata": {},
   "outputs": [],
   "source": [
    "# pipeline-api\n",
    "def pipeline_api(text, m_section=[]):\n",
    "    \"\"\"Many supported sections including: RISK_FACTORS, MANAGEMENT_DISCUSSION, and many more\"\"\"\n",
    "    validate_section_names(m_section)\n",
    "    \n",
    "    sec_document = SECDocument.from_string(text)\n",
    "    if sec_document.filing_type not in VALID_FILING_TYPES:\n",
    "        raise ValueError(\n",
    "            f\"SEC document filing type {sec_document.filing_type} is not supported, \"\n",
    "            f\"must be one of {','.join(VALID_FILING_TYPES)}\"\n",
    "        )\n",
    "    results = {}\n",
    "    if m_section == [ALL_SECTIONS]:\n",
    "        if sec_document.filing_type in REPORT_TYPES:\n",
    "            m_section = [enum.name for enum in SECTIONS_10K]\n",
    "        else:\n",
    "            m_section = [enum.name for enum in SECTIONS_S1]\n",
    "    for section in m_section:\n",
    "        results[section] = sec_document.get_section_narrative(\n",
    "            section_string_to_enum[section])\n",
    "    return {section:convert_to_isd(section_narrative) for section, section_narrative in results.items()}"
   ]
  },
  {
   "cell_type": "code",
   "execution_count": null,
   "id": "f6403cb1",
   "metadata": {},
   "outputs": [],
   "source": [
    "risk_narrative = pipeline_api(text, [\"RISK_FACTORS\"])[\"RISK_FACTORS\"]\n",
    "risk_narrative[:5]"
   ]
  },
  {
   "cell_type": "code",
   "execution_count": null,
   "id": "2516c2d0-55e2-4d4c-9be9-cababa6a452c",
   "metadata": {},
   "outputs": [],
   "source": [
    "all_narratives = pipeline_api(text, [\"_ALL\"])\n",
    "for section, elems in all_narratives.items():\n",
    "    print(section)\n",
    "    print(elems[:4])\n",
    "    print(\"---------------\")"
   ]
  },
  {
   "cell_type": "code",
   "execution_count": null,
   "id": "de063b9d-a987-4396-86b7-5ba3bb74bc92",
   "metadata": {},
   "outputs": [],
   "source": []
  }
 ],
 "metadata": {
  "kernelspec": {
   "display_name": "Python 3 (ipykernel)",
   "language": "python",
   "name": "python3"
  }
 },
 "nbformat": 4,
 "nbformat_minor": 5
}
