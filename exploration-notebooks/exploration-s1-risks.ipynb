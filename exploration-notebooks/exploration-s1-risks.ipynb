{
 "cells": [
  {
   "cell_type": "markdown",
   "id": "ae311bc4",
   "metadata": {},
   "source": [
    "## Exploration Notebooks - S1 Documents\n",
    "\n",
    "The purpose of this notebook is to demonstrate the logic for extracting narrative text from the risk factors section in S1 filings. \n",
    "\n",
    "#### Table of Contents\n",
    "\n",
    "1. [Palantir Filing](#palantir)\n",
    "2. [Tesla Filing](#tesla)"
   ]
  },
  {
   "cell_type": "code",
   "execution_count": null,
   "id": "f89372ab",
   "metadata": {},
   "outputs": [],
   "source": [
    "%load_ext autoreload\n",
    "%autoreload 2"
   ]
  },
  {
   "cell_type": "code",
   "execution_count": null,
   "id": "18f90b55",
   "metadata": {},
   "outputs": [],
   "source": [
    "from prepline_sec_filings.fetch import get_filing\n",
    "from prepline_sec_filings.sec_document import SECDocument"
   ]
  },
  {
   "cell_type": "markdown",
   "id": "bbaf7232",
   "metadata": {},
   "source": [
    "### Palantir Filing <a id=\"palantir\"></a>\n",
    "\n",
    "This section pulls in the Palantir S-1 filing from the SEC site, which is available [here](https://www.sec.gov/Archives/edgar/data/1321655/000119312520230013/d904406ds1.htm). The goal is to identify the [risk factors](https://www.sec.gov/Archives/edgar/data/1321655/000119312520230013/d904406ds1.htm#rom904406_3) section."
   ]
  },
  {
   "cell_type": "code",
   "execution_count": null,
   "id": "1aef6e6d",
   "metadata": {},
   "outputs": [],
   "source": [
    "text = get_filing(\"1321655\",\n",
    "                 \"000119312520230013\", \n",
    "                 \"Unstructured Technologies\", \n",
    "                 \"support@unstructured.io\")"
   ]
  },
  {
   "cell_type": "code",
   "execution_count": null,
   "id": "71848be5",
   "metadata": {},
   "outputs": [],
   "source": [
    "sec_document = SECDocument.from_string(text)"
   ]
  },
  {
   "cell_type": "code",
   "execution_count": null,
   "id": "3ff29c73",
   "metadata": {},
   "outputs": [
    {
     "data": {
      "text/plain": [
       "'S-1'"
      ]
     },
     "execution_count": null,
     "metadata": {},
     "output_type": "execute_result"
    }
   ],
   "source": [
    "sec_document.filing_type"
   ]
  },
  {
   "cell_type": "code",
   "execution_count": null,
   "id": "1d4ac11a",
   "metadata": {},
   "outputs": [],
   "source": [
    "from prepline_sec_filings.sections import SECSection\n",
    "risk_narrative = sec_document.get_section_narrative(SECSection.RISK_FACTORS)"
   ]
  },
  {
   "cell_type": "markdown",
   "id": "4d95c612",
   "metadata": {},
   "source": [
    "From the cells below, we can see that the `get_risk_narrative` method section successfully identified the risk section in the document."
   ]
  },
  {
   "cell_type": "code",
   "execution_count": null,
   "id": "821c431a",
   "metadata": {},
   "outputs": [
    {
     "name": "stdout",
     "output_type": "stream",
     "text": [
      "Investing in our Class A common stock involves a high degree of risk. You should carefully consider the risks and uncertainties\n",
      "described below, together with all of the other information in this prospectus, including the section titled “Management’s Discussion and Analysis of Financial Condition and Results of Operations” and our consolidated financial\n",
      "statements and accompanying notes, before making a decision to invest in our Class A common stock. Our business, financial condition, results of operations, or prospects could also be harmed by risks and uncertainties not currently known to us\n",
      "or that we currently do not believe are material. If any of the risks actually occur, our business, financial condition, results of operations, and prospects could be adversely affected. In that event, the trading price of our Class A common\n",
      "stock could decline, and you could lose part or all of your investment.\n"
     ]
    }
   ],
   "source": [
    "print(risk_narrative[0])"
   ]
  },
  {
   "cell_type": "code",
   "execution_count": null,
   "id": "8b31a840",
   "metadata": {},
   "outputs": [
    {
     "name": "stdout",
     "output_type": "stream",
     "text": [
      "We have never declared nor paid cash dividends on our capital stock. We currently intend to retain any future earnings to finance the\n",
      "operation and expansion of our business, and we do not anticipate declaring or paying any dividends to holders of our capital stock in the foreseeable future. In addition, our credit facility contains restrictions on our ability to pay dividends.\n",
      "Any determination to pay dividends in the future will be at the discretion of our Board of Directors. Consequently, stockholders must rely on sales of their Class A common stock after price appreciation, which may never occur, as the only way\n",
      "to realize any future gains on their investment.\n"
     ]
    }
   ],
   "source": [
    "print(risk_narrative[-1])"
   ]
  },
  {
   "cell_type": "markdown",
   "id": "6fa2c95d",
   "metadata": {},
   "source": [
    "### Tesla Filing <a id=\"tesla\"></a>\n",
    "\n",
    "This section tests the risk narrative logic on the Tesla S-1 filing, which can be found [here](https://www.sec.gov/Archives/edgar/data/1318605/000119312511149963/ds1.htm). The goal is to identify the narrative text in the Risk Factors section, which can be found [here](https://www.sec.gov/Archives/edgar/data/1318605/000119312511149963/ds1.htm#toc188115_4)."
   ]
  },
  {
   "cell_type": "code",
   "execution_count": null,
   "id": "d203ec3e",
   "metadata": {},
   "outputs": [],
   "source": [
    "text = get_filing(\"1318605\",\n",
    "                 \"000119312511149963\", \n",
    "                 \"Unstructured Technologies\", \n",
    "                 \"support@unstructured.io\")"
   ]
  },
  {
   "cell_type": "code",
   "execution_count": null,
   "id": "1a26f776",
   "metadata": {},
   "outputs": [],
   "source": [
    "sec_document = SECDocument.from_string(text)"
   ]
  },
  {
   "cell_type": "code",
   "execution_count": null,
   "id": "2de728f5",
   "metadata": {},
   "outputs": [
    {
     "data": {
      "text/plain": [
       "'S-1'"
      ]
     },
     "execution_count": null,
     "metadata": {},
     "output_type": "execute_result"
    }
   ],
   "source": [
    "sec_document.filing_type"
   ]
  },
  {
   "cell_type": "code",
   "execution_count": null,
   "id": "a37d12e7",
   "metadata": {},
   "outputs": [],
   "source": [
    "risk_narrative = sec_document.get_section_narrative(SECSection.RISK_FACTORS)"
   ]
  },
  {
   "cell_type": "markdown",
   "id": "5bd7e2a8",
   "metadata": {},
   "source": [
    "From the cells below, we can see that the `get_risk_narrative` method section successfully identified the risk section in the document."
   ]
  },
  {
   "cell_type": "code",
   "execution_count": null,
   "id": "58d5258a",
   "metadata": {},
   "outputs": [
    {
     "name": "stdout",
     "output_type": "stream",
     "text": [
      "You should carefully consider the risks described below together with the other information set forth in this prospectus, which could\n",
      "materially affect our business, financial condition and future results. The risks described below are not the only risks facing our company. Risks and uncertainties not currently known to us or that we currently deem to be immaterial also may\n",
      "materially adversely affect our business, financial condition and operating results.\n"
     ]
    }
   ],
   "source": [
    "print(risk_narrative[0])"
   ]
  },
  {
   "cell_type": "code",
   "execution_count": null,
   "id": "f48ea22d",
   "metadata": {},
   "outputs": [
    {
     "name": "stdout",
     "output_type": "stream",
     "text": [
      "We do not anticipate declaring any cash dividends to holders of our common stock in the foreseeable future. Consequently, investors may\n",
      "need to rely on sales of their common stock after price appreciation, which may never occur, as the only way to realize any future gains on their investment. Investors seeking cash dividends should not purchase our common stock.\n"
     ]
    }
   ],
   "source": [
    "print(risk_narrative[-1])"
   ]
  },
  {
   "cell_type": "code",
   "execution_count": null,
   "id": "770ca0f3",
   "metadata": {},
   "outputs": [],
   "source": []
  }
 ],
 "metadata": {
  "kernelspec": {
   "display_name": "python3",
   "language": "python",
   "name": "python3"
  }
 },
 "nbformat": 4,
 "nbformat_minor": 5
}
