{
 "cells": [
  {
   "cell_type": "markdown",
   "metadata": {},
   "source": [
    "## Exploration Notebooks - TOC in action\n",
    "\n",
    "The purpose of this notebook is to demonstrate the logic for indentifying the Table of Contents section for both 10-K/10-Q and S-1 filings. \n",
    "\n",
    "#### Table of Contents\n",
    "\n",
    "1. [TOC action for 10-K/10-Q filings](#10-K-10-Q)\n",
    "2. [TOC action for S-1 filings](#S-1)"
   ]
  },
  {
   "cell_type": "code",
   "execution_count": null,
   "metadata": {},
   "outputs": [],
   "source": [
    "%load_ext autoreload\n",
    "%autoreload 2"
   ]
  },
  {
   "cell_type": "code",
   "execution_count": null,
   "metadata": {},
   "outputs": [],
   "source": [
    "from prepline_sec_filings.fetch import get_filing\n",
    "from prepline_sec_filings.sec_document import SECDocument"
   ]
  },
  {
   "cell_type": "markdown",
   "metadata": {},
   "source": [
    "### 10-K/10-Q Filing <a id=\"10-K-10-Q\"></a>\n",
    "\n",
    "This section pulls in the Palantir 10-Q filing from the SEC site, which is available [here](https://www.sec.gov/Archives/edgar/data/1321655/000119312520292177/d31861d10q.htm). The goal is to identify the [table of contents](https://www.sec.gov/Archives/edgar/data/1321655/000119312520292177/d31861d10q.htm#toc) section."
   ]
  },
  {
   "cell_type": "code",
   "execution_count": null,
   "metadata": {},
   "outputs": [],
   "source": [
    "text = get_filing(\"1321655\",\n",
    "                  \"000119312520292177\", \n",
    "                  \"Unstructured Technologies\",\n",
    "                  \"support@unstructured.io\")"
   ]
  },
  {
   "cell_type": "code",
   "execution_count": null,
   "metadata": {},
   "outputs": [],
   "source": [
    "sec_document = SECDocument.from_string(text)"
   ]
  },
  {
   "cell_type": "code",
   "execution_count": null,
   "metadata": {},
   "outputs": [],
   "source": [
    "elements = sec_document.elements"
   ]
  },
  {
   "cell_type": "code",
   "execution_count": null,
   "metadata": {},
   "outputs": [],
   "source": [
    "toc = sec_document.get_table_of_contents()"
   ]
  },
  {
   "cell_type": "markdown",
   "metadata": {},
   "source": [
    "From the cells below, we can see that the `get_table_of_contents` method section identified the table of contents section in the document. However, there is still extra junk at the end."
   ]
  },
  {
   "cell_type": "code",
   "execution_count": null,
   "metadata": {},
   "outputs": [
    {
     "name": "stdout",
     "output_type": "stream",
     "text": [
      "PART I. FINANCIAL INFORMATION\n",
      "Item 1\n",
      "Financial Statements (unaudited)\n",
      "Condensed Consolidated Balance Sheets\n",
      "Condensed Consolidated Statements of Operations\n",
      "Condensed Consolidated Statements of Comprehensive Loss\n",
      "Condensed Consolidated Statements of Cash Flows\n",
      "Notes to Unaudited Condensed Consolidated Financial\n",
      "Statements\n",
      "Item 2\n",
      "Management’s Discussion and Analysis of Financial Condition and Results\n",
      " of Operations\n",
      "Item 3\n",
      "Quantitative and Qualitative Disclosures About Market Risk\n",
      "Item 4\n",
      "Controls and Procedures\n",
      "PART II. OTHER INFORMATION\n",
      "Item 1\n",
      "Legal Proceedings\n",
      "Item 1A\n",
      "Risk Factors\n",
      "Item 2\n",
      "Unregistered Sales of Equity Securities\n",
      "Item 3\n",
      "Defaults Upon Senior Securities\n",
      "Item 4\n",
      "Mine Safety Disclosures\n",
      "Item 5\n",
      "Other Information\n",
      "Item 6\n",
      "Exhibits\n",
      "Table of Contents\n",
      "SPECIAL NOTE REGARDING FORWARD-LOOKING STATEMENTS\n"
     ]
    }
   ],
   "source": [
    "for element in toc.elements:\n",
    "    print(element.text)"
   ]
  },
  {
   "cell_type": "markdown",
   "metadata": {},
   "source": [
    "### S-1 Filing <a id=\"S-1\"></a>\n",
    "\n",
    "This section pulls in the Tesla S-1 filing from the SEC site, which is available [here](https://www.sec.gov/Archives/edgar/data/1318605/000119312511149963/ds1.htm). The goal is to identify the [table of contents](https://www.sec.gov/Archives/edgar/data/1318605/000119312511149963/ds1.htm#toc) section."
   ]
  },
  {
   "cell_type": "code",
   "execution_count": null,
   "metadata": {},
   "outputs": [],
   "source": [
    "text = get_filing(\"1318605\",\n",
    "                 \"000119312511149963\", \n",
    "                 \"Unstructured Technologies\", \n",
    "                 \"support@unstructured.io\")"
   ]
  },
  {
   "cell_type": "code",
   "execution_count": null,
   "metadata": {},
   "outputs": [],
   "source": [
    "sec_document = SECDocument.from_string(text)"
   ]
  },
  {
   "cell_type": "code",
   "execution_count": null,
   "metadata": {},
   "outputs": [],
   "source": [
    "elements = sec_document.elements"
   ]
  },
  {
   "cell_type": "code",
   "execution_count": null,
   "metadata": {},
   "outputs": [],
   "source": [
    "toc = sec_document.get_table_of_contents()"
   ]
  },
  {
   "cell_type": "markdown",
   "metadata": {},
   "source": [
    "From the cells below, we can see that the `get_table_of_contents` method section identified the table of contents section in the document. However, there is still extra junk at the end."
   ]
  },
  {
   "cell_type": "code",
   "execution_count": null,
   "metadata": {},
   "outputs": [
    {
     "name": "stdout",
     "output_type": "stream",
     "text": [
      "Prospectus Summary\n",
      "The Offering\n",
      "Summary Consolidated Financial Data\n",
      "Risk Factors\n",
      "Special Note Regarding Forward Looking Statements\n",
      "Market, Industry and Other Data\n",
      "Use of Proceeds\n",
      "Price Range of Common Stock\n",
      "Dividend Policy\n",
      "Capitalization\n",
      "Dilution\n",
      "Selected Consolidated Financial Data\n",
      "Management’s Discussion and Analysis of Financial Condition and Results of\n",
      "Operations\n",
      "Business\n",
      "Management\n",
      "Executive Compensation\n",
      "Certain Relationships and Related Party Transactions\n",
      "Principal Stockholders\n",
      "Description of Capital Stock\n",
      "Shares Eligible for Future Sale\n",
      "Material United States Tax Considerations for Non-United States Holders\n",
      "Underwriting\n",
      "Concurrent Private Placement\n",
      "Legal Matters\n",
      "Experts\n",
      "Where You Can Find Additional Information\n",
      "Index to Consolidated Financial Statements\n"
     ]
    }
   ],
   "source": [
    "for element in toc.elements:\n",
    "    print(element.text)"
   ]
  },
  {
   "cell_type": "code",
   "execution_count": null,
   "metadata": {},
   "outputs": [],
   "source": []
  }
 ],
 "metadata": {
  "kernelspec": {
   "display_name": "python3",
   "language": "python",
   "name": "python3"
  }
 },
 "nbformat": 4,
 "nbformat_minor": 2
}
