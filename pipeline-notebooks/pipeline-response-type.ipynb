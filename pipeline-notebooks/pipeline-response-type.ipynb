{
 "cells": [
  {
   "cell_type": "code",
   "execution_count": null,
   "metadata": {},
   "outputs": [],
   "source": [
    "# pipeline-api\n",
    "def pipeline_api(text, response_type=\"text/csv\", m_section=[], m_section_regex=[]):\n",
    "    if response_type == \"application/json\":\n",
    "        return {\"text\" : \"hello world\"}\n",
    "    elif response_type == \"text/csv\":\n",
    "        # comment this out to test conflict response type\n",
    "        # return {\"text\" : \"hello world\"}\n",
    "        return \"hello world\"\n",
    "    else:\n",
    "        # should report error this case\n",
    "        return \"unsupported response type\""
   ]
  }
 ],
 "metadata": {
  "kernelspec": {
   "display_name": "Python 3.8.13 64-bit ('base')",
   "language": "python",
   "name": "python3"
  },
  "language_info": {
   "name": "python",
   "version": "3.8.13"
  },
  "orig_nbformat": 4,
  "vscode": {
   "interpreter": {
    "hash": "6f55c6b557238c5aae3b51d24f48860ea77ad6a4068c9a4469f4bef60c0f0d2e"
   }
  }
 },
 "nbformat": 4,
 "nbformat_minor": 2
}
