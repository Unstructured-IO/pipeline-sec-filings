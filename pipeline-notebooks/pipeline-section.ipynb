{
 "cells": [
  {
   "cell_type": "markdown",
   "id": "ef7df371",
   "metadata": {},
   "source": [
    "# SEC Filing Section Pipeline\n",
    "\n",
    "This notebook defines the pipeline for extracting the narrative text sections\n",
    "from the 10-K, 10-Q, and S-1 filings. This notebook contains both\n",
    "exploration code and the code for defining the API. Code cells marked\n",
    "with `#pipeline-api` are included in the API definition.\n",
    "\n",
    "To demonstrate how off-the-shelf Unstructured Bricks extract\n",
    "meaningful data from complex source documents, we will apply\n",
    "a series of Bricks with explanations before defining the API.\n",
    "\n",
    "#### Table of Contents\n",
    "\n",
    "1. [Pulling in Raw Documents](#raw)\n",
    "1. [Reading the Document](#reading)\n",
    "1. [Custom Partitioning Bricks](#custom)\n",
    "1. [Cleaning Bricks](#cleaning)\n",
    "1. [Staging Bricks](#staging)\n",
    "1. [Define the Pipeline API](#pipeline)"
   ]
  },
  {
   "cell_type": "markdown",
   "id": "ce437859",
   "metadata": {},
   "source": [
    "## Section 1: Pulling in Raw Documents <a id=\"raw\"></a>\n",
    "\n",
    "First, let's pull in a filing from the SEC EDGAR database.\n",
    "In this case, we'll pull in the most recent 10-K for Royal Gold (RGLD),\n",
    "a publicly traded precious metals company."
   ]
  },
  {
   "cell_type": "code",
   "execution_count": null,
   "id": "8b5350cc",
   "metadata": {},
   "outputs": [],
   "source": [
    "from prepline_sec_filings.fetch import (\n",
    "    get_form_by_ticker, open_form_by_ticker\n",
    ")\n",
    "\n",
    "text = get_form_by_ticker(\n",
    "    'rgld', \n",
    "    '10-K', \n",
    "    company='Unstructured Technologies', \n",
    "    email='support@unstructured.io'\n",
    ")"
   ]
  },
  {
   "cell_type": "code",
   "execution_count": null,
   "id": "be77e966",
   "metadata": {},
   "outputs": [],
   "source": [
    "print(text[1375:3284])"
   ]
  },
  {
   "cell_type": "markdown",
   "id": "179f274a",
   "metadata": {},
   "source": [
    "Wow! We're able to pull in the document, but it's really messy. \n",
    "To help, we'll apply Unstructured Bricks to extract the information we're most interested in. Ultimately, we want to be able to ask the API\n",
    "for a section and get back the narrative text within that section. Once\n",
    "we extract the narrative text, we can spin up a labeling task or send\n",
    "it to a downstream ML service for inference."
   ]
  },
  {
   "cell_type": "markdown",
   "id": "fad407f5",
   "metadata": {},
   "source": [
    "```json\n",
    "[\n",
    "  {\n",
    "    \"text\": \"You should carefully consider the risks described in this section. Our future performance is subject to risks and uncertainties that could have a material adverse effect on our business, results of operations, and financial condition and the trading price of our common stock. We may be subject to other risks and uncertainties not presently known to us. In addition, please see our note about forward-looking statements included in the MD&A.\",\n",
    "    \"type\": \"NarrativeText\"\n",
    "  },\n",
    "  {\n",
    "    \"text\": \"Our revenue is subject to volatility in metal prices, which could negatively affect our results of operations or cash flow.\",\n",
    "    \"type\": \"NarrativeText\"\n",
    "  },\n",
    "  {\n",
    "    \"text\": \"Market prices for gold, silver, copper, nickel, and other metals may fluctuate widely over time and are affected by numerous factors beyond our control. These factors include metal supply and demand, industrial and jewelry fabrication, investment demand, central banking actions, inflation expectations, currency values, interest rates, forward sales by metal producers, and political, trade, economic, or banking conditions.\",\n",
    "    \"type\": \"NarrativeText\"\n",
    "  },\n",
    "```"
   ]
  },
  {
   "cell_type": "markdown",
   "id": "eb2b1aa0",
   "metadata": {},
   "source": [
    "## Section 2: Reading the Document <a id=\"reading\"></a>\n",
    "\n",
    "The first step is to identify and categorize text elements within the\n",
    "document. When we get the SEC document from EDGAR, it is in `.xml` format. Like most text documents, XML documents contains text data we're\n",
    "interested along with other information that we'd like to discard. In\n",
    "an XML or HTML document, that could be styling or formatting tags.\n",
    "Other document types, like PDFs, might have headers, footers, and page\n",
    "numbers we're not interested in.\n",
    "\n",
    "To help with this, Unstructured has created a library of \n",
    "***partitioning bricks*** to break down a document into coherent chunks.\n",
    "Different document types have different partitioning methods. For HTML\n",
    "or XML documents, we identify sections based on text tags and use\n",
    "NLP to differentiate between titles, narrative text, and other section\n",
    "types. For PDF documents, we use visual clues such as the layout of the\n",
    "document."
   ]
  },
  {
   "cell_type": "code",
   "execution_count": null,
   "id": "7d1cbf28",
   "metadata": {},
   "outputs": [],
   "source": [
    "from unstructured.documents.html import HTMLDocument\n",
    "\n",
    "html_document = HTMLDocument.from_string(text).doc_after_cleaners(skip_headers_and_footers=True, skip_table_text=True)"
   ]
  },
  {
   "cell_type": "markdown",
   "id": "4415da63",
   "metadata": {},
   "source": [
    "Here, we see that the `HTMLDocument` Brick was able to extract\n",
    "text from the raw source XML document. This is a generic\n",
    "`HTMLDocument` class that does not have any special knowledge about\n",
    "the structure of EDGAR documents."
   ]
  },
  {
   "cell_type": "code",
   "execution_count": null,
   "id": "7352e9fa",
   "metadata": {},
   "outputs": [],
   "source": [
    "for element in html_document.pages[0].elements[71:75]:\n",
    "    print(element)\n",
    "    print(\"\\n\")"
   ]
  },
  {
   "cell_type": "markdown",
   "id": "9b9105dc",
   "metadata": {},
   "source": [
    "Internally, the sections of text are represented using `Title` and\n",
    "`NarrativeText` classes, as shown below. Bricks that are executed while\n",
    "processing the document distinguish titles from narrative text."
   ]
  },
  {
   "cell_type": "code",
   "execution_count": null,
   "id": "28461ad4",
   "metadata": {},
   "outputs": [],
   "source": [
    "html_document.pages[0].elements[71:75]"
   ]
  },
  {
   "cell_type": "markdown",
   "id": "67d14cb5",
   "metadata": {},
   "source": [
    "Below, we show Bricks identifying possible titles and narrative text\n",
    "sections. `\"Regulation\"` is identified as a title and not narrative text\n",
    "because it is short and does not contain any verbs. Conversely, longer\n",
    "sections with multiple, complex sentences are identified as narrative."
   ]
  },
  {
   "cell_type": "code",
   "execution_count": null,
   "id": "b33d8a6b",
   "metadata": {},
   "outputs": [],
   "source": [
    "from unstructured.nlp.partition import is_possible_title\n",
    "\n",
    "is_possible_title(\"Regulation\")"
   ]
  },
  {
   "cell_type": "code",
   "execution_count": null,
   "id": "8c8f59e4",
   "metadata": {},
   "outputs": [],
   "source": [
    "is_possible_title(\"\"\"Operators of the mines that are subject to our \n",
    "stream and royalty interests must comply with numerous environmental, \n",
    "mine safety, land use, waste disposal, remediation and public health \n",
    "laws and regulations promulgated by federal, state, provincial and \n",
    "local governments in the United States, Canada, Chile, the Dominican \n",
    "Republic, Ghana, Mexico, Botswana, Australia and other countries where \n",
    "we hold interests. Although we, as a stream or royalty interest owner, \n",
    "are not\"\"\")"
   ]
  },
  {
   "cell_type": "code",
   "execution_count": null,
   "id": "b67a1722",
   "metadata": {},
   "outputs": [],
   "source": [
    "from unstructured.nlp.partition import is_possible_narrative_text\n",
    "\n",
    "is_possible_narrative_text(\"Regulation\")"
   ]
  },
  {
   "cell_type": "code",
   "execution_count": null,
   "id": "3003af93",
   "metadata": {},
   "outputs": [],
   "source": [
    "is_possible_narrative_text(\"\"\"Operators of the mines that are subject to our \n",
    "stream and royalty interests must comply with numerous environmental, \n",
    "mine safety, land use, waste disposal, remediation and public health \n",
    "laws and regulations promulgated by federal, state, provincial and \n",
    "local governments in the United States, Canada, Chile, the Dominican \n",
    "Republic, Ghana, Mexico, Botswana, Australia and other countries where \n",
    "we hold interests. Although we, as a stream or royalty interest owner, \n",
    "are not\"\"\")"
   ]
  },
  {
   "cell_type": "markdown",
   "id": "32d7513f",
   "metadata": {},
   "source": [
    "## Section 3: Custom Partitioning Bricks <a id=\"custom\"></a>\n",
    "\n",
    "In addition to the partitioning bricks Unstructured provides out of the\n",
    "box, a given recipe may require custom partitioning bricks. In this case,\n",
    "we're interested in identifying sections within the SEC filing. To \n",
    "support that, we'll create a custom partitioning brick to identify \n",
    "section titles. This will help distinguish section headings from sub-headings."
   ]
  },
  {
   "cell_type": "code",
   "execution_count": null,
   "id": "407222da",
   "metadata": {},
   "outputs": [],
   "source": [
    "import re\n",
    "from unstructured.documents.elements import Title"
   ]
  },
  {
   "cell_type": "code",
   "execution_count": null,
   "id": "55571113",
   "metadata": {},
   "outputs": [],
   "source": [
    "ITEM_TITLE_RE = re.compile(\n",
    "    r\"(?i)item \\d{1,3}(?:[a-z]|\\([a-z]\\))?(?:\\.)?(?::)?\"\n",
    ")"
   ]
  },
  {
   "cell_type": "code",
   "execution_count": null,
   "id": "e6d07983",
   "metadata": {},
   "outputs": [],
   "source": [
    "def is_10k_item_title(title: str) -> bool:\n",
    "    \"\"\"Determines if a title corresponds to a 10-K item heading.\"\"\"\n",
    "    return ITEM_TITLE_RE.match(title) is not None"
   ]
  },
  {
   "cell_type": "markdown",
   "id": "418770aa",
   "metadata": {},
   "source": [
    "This is looking pretty good! Those all look like the section headings\n",
    "we're looking for. But wait, it seems like a few might be missing? It\n",
    "turns out some of the titles contain extra whitespace characters. As a\n",
    "result, they are not captured by the regex. Fortunately, Unstructured\n",
    "has tools to help with that, which we'll cover in the next section."
   ]
  },
  {
   "cell_type": "code",
   "execution_count": null,
   "id": "bebffdaf",
   "metadata": {},
   "outputs": [],
   "source": [
    "for element in html_document.elements:\n",
    "    if isinstance(element, Title) and is_10k_item_title(element.text):\n",
    "        print(element)"
   ]
  },
  {
   "cell_type": "markdown",
   "id": "f64d54c3",
   "metadata": {},
   "source": [
    "## Section 4: Cleaning Bricks <a id=\"cleaning\"></a>\n",
    "\n",
    "\n",
    "***FIXME*** new cleaner\n",
    "\n",
    "In addition to partitioning bricks, the Unstructured library has\n",
    "***cleaning*** bricks for removing unwanted content from text. In this\n",
    "case, we'll solve our whitespace problem by using the \n",
    "`clean_extra_spaces` brick. Other uses for cleaning bricks include\n",
    "cleaning out boilerplate, sentence fragments, and other segments\n",
    "of text that could impact labeling tasks or the accuracy of\n",
    "machine learning models. As with partitioning bricks, users can\n",
    "include custom cleaning bricks in a pipeline."
   ]
  },
  {
   "cell_type": "code",
   "execution_count": null,
   "id": "04638330",
   "metadata": {},
   "outputs": [],
   "source": [
    "from unstructured.cleaners.core import clean\n",
    "def clean_sec_docs(text):\n",
    "    return clean(text, extra_whitespace=True, dashes=True, trailing_punctuation=True)"
   ]
  },
  {
   "cell_type": "code",
   "execution_count": null,
   "id": "a47bbb09-4745-4aaf-9c64-849f54bded6d",
   "metadata": {},
   "outputs": [],
   "source": [
    "for element in html_document.elements:\n",
    "    element.text = clean_sec_docs(element.text)\n",
    "    if isinstance(element, Title) and is_10k_item_title(element.text):\n",
    "        print(element)"
   ]
  },
  {
   "cell_type": "markdown",
   "id": "aaee90ba",
   "metadata": {},
   "source": [
    "After applying the cleaning brick, we have a good looking list of \n",
    "section titles! With our set of bricks in place, we have what we\n",
    "need to identify the risk section. For convenience, we've packaged them\n",
    "up in the `SECDocument` class in the Python module for the pipeline. Notice\n",
    "we include the `# pipeline-api` comment to include the `SECDocument`\n",
    "import in the pipeline definition. Applying the full pipeline, we're\n",
    "able to cleanly extract the risk narrative portion of the SEC filing.\n",
    "The function is parameterized so we're easily able to get other sections\n",
    "as well."
   ]
  },
  {
   "cell_type": "code",
   "execution_count": null,
   "id": "394561e4",
   "metadata": {},
   "outputs": [],
   "source": [
    "# pipeline-api\n",
    "from prepline_sec_filings.sections import section_string_to_enum, validate_section_names, SECSection\n",
    "from prepline_sec_filings.sec_document import SECDocument, REPORT_TYPES, VALID_FILING_TYPES"
   ]
  },
  {
   "cell_type": "code",
   "execution_count": null,
   "id": "247f3d20",
   "metadata": {},
   "outputs": [],
   "source": [
    "sec_document = SECDocument.from_string(text)\n",
    "risk_narrative = sec_document.get_section_narrative(SECSection.RISK_FACTORS)"
   ]
  },
  {
   "cell_type": "code",
   "execution_count": null,
   "id": "5afb5b54",
   "metadata": {},
   "outputs": [],
   "source": [
    "for element in risk_narrative[:3]:\n",
    "    print(element)\n",
    "    print(\"\\n\")"
   ]
  },
  {
   "cell_type": "markdown",
   "id": "5a9a3d90",
   "metadata": {},
   "source": [
    "## Section 5: Staging Bricks <a id=\"staging\"></a>\n",
    "\n",
    "After we've extracted the information we want, the next step is to\n",
    "prepare the data for downstream tasks. This can include preparation\n",
    "to:\n",
    "\n",
    "- Feed the data into a downstream ML model\n",
    "- Convert the data into a labeling task\n",
    "- Upload the data into a database\n",
    "\n",
    "To help with this, Unstructured has created ***staging bricks***\n",
    "that preparing extracted data for downstream tasks. In this case,\n",
    "we'll show how to format the data so that it can be easily\n",
    "uploaded into LabelStudio as a labeling task. Other future uses cases include:\n",
    "\n",
    "- Preparing data for downstream inference by Primer, Co:here, or Vannevar\n",
    "- Chunking text to fit into attention windows for Huggingface\n",
    "- Uploading data to Palantir Foundry"
   ]
  },
  {
   "cell_type": "code",
   "execution_count": null,
   "id": "55f28884",
   "metadata": {},
   "outputs": [],
   "source": [
    "from unstructured.staging.label_studio import stage_for_label_studio"
   ]
  },
  {
   "cell_type": "code",
   "execution_count": null,
   "id": "aaf2400e",
   "metadata": {},
   "outputs": [],
   "source": [
    "label_studio_data = stage_for_label_studio(risk_narrative)\n",
    "label_studio_data[:5]"
   ]
  },
  {
   "cell_type": "markdown",
   "id": "ce62f651",
   "metadata": {},
   "source": [
    "## Section 6: Define the Pipeline API <a id=\"pipeline\"></a>\n",
    "\n",
    "Once we have everything ready to go, we can package up the pipeline API\n",
    "using the `# pipeline-api` comment. Unstructured has tooling that will\n",
    "convert this notebook directly into a REST API. By convention, the REST\n",
    "API calls the `pipeline_api` function when the API is invoked.\n",
    "Once the REST API is up and running, users can make an HTTP request\n",
    "to parse new documents."
   ]
  },
  {
   "cell_type": "code",
   "execution_count": null,
   "id": "d6cb712f",
   "metadata": {},
   "outputs": [],
   "source": [
    "# pipeline-api\n",
    "from enum import Enum\n",
    "import re\n",
    "import signal\n",
    "\n",
    "from unstructured.staging.base import convert_to_isd\n",
    "from prepline_sec_filings.sections import (\n",
    "    ALL_SECTIONS,\n",
    "    SECTIONS_10K,\n",
    "    SECTIONS_10Q,\n",
    "    SECTIONS_S1,\n",
    ")"
   ]
  },
  {
   "cell_type": "code",
   "execution_count": null,
   "id": "f6a2bfd8",
   "metadata": {},
   "outputs": [],
   "source": [
    "# pipeline-api\n",
    "class timeout:\n",
    "    def __init__(self, seconds=1, error_message='Timeout'):\n",
    "        self.seconds = seconds\n",
    "        self.error_message = error_message\n",
    "    def handle_timeout(self, signum, frame):\n",
    "        raise TimeoutError(self.error_message)\n",
    "    def __enter__(self):\n",
    "        try:\n",
    "            signal.signal(signal.SIGALRM, self.handle_timeout)\n",
    "            signal.alarm(self.seconds)\n",
    "        except ValueError:\n",
    "            pass\n",
    "    def __exit__(self, type, value, traceback):\n",
    "        try:\n",
    "            signal.alarm(0)\n",
    "        except ValueError:\n",
    "            pass"
   ]
  },
  {
   "cell_type": "code",
   "execution_count": 8,
   "id": "79987cb3",
   "metadata": {},
   "outputs": [],
   "source": [
    "# pipeline-api\n",
    "def get_regex_enum(section_regex):\n",
    "    class CustomSECSection(Enum):\n",
    "        # NOTE(robinson) - The encode/decode step treats the requested\n",
    "        # pattern as a raw string, such as r\"risk factors\"\n",
    "        raw_regex = section_regex.encode(\"unicode_escape\").decode()\n",
    "        CUSTOM = re.compile(raw_regex)\n",
    "        \n",
    "        @property\n",
    "        def pattern(self):\n",
    "            return self.value\n",
    "            \n",
    "    return CustomSECSection.CUSTOM"
   ]
  },
  {
   "cell_type": "code",
   "execution_count": 9,
   "id": "c8e0cad6",
   "metadata": {},
   "outputs": [],
   "source": [
    "# pipeline-api\n",
    "def pipeline_api(text, m_section=[], m_section_regex=[]):\n",
    "    \"\"\"Many supported sections including: RISK_FACTORS, MANAGEMENT_DISCUSSION, and many more\"\"\"\n",
    "    validate_section_names(m_section)\n",
    "    \n",
    "    sec_document = SECDocument.from_string(text)\n",
    "    if sec_document.filing_type not in VALID_FILING_TYPES:\n",
    "        raise ValueError(\n",
    "            f\"SEC document filing type {sec_document.filing_type} is not supported, \"\n",
    "            f\"must be one of {','.join(VALID_FILING_TYPES)}\"\n",
    "        )\n",
    "    results = {}\n",
    "    if m_section == [ALL_SECTIONS]:\n",
    "        filing_type = sec_document.filing_type\n",
    "        if filing_type in REPORT_TYPES:\n",
    "            if filing_type.startswith(\"10-K\"):\n",
    "                m_section = [enum.name for enum in SECTIONS_10K]\n",
    "            elif filing_type.startswith(\"10-Q\"):\n",
    "                m_section = [enum.name for enum in SECTIONS_10Q]\n",
    "            else:\n",
    "                raise ValueError(f\"Invalid report type: {filing_type}\")\n",
    "\n",
    "        else:\n",
    "            m_section = [enum.name for enum in SECTIONS_S1]\n",
    "    for section in m_section:\n",
    "        results[section] = sec_document.get_section_narrative(\n",
    "            section_string_to_enum[section]\n",
    "        )\n",
    "    for i, section_regex in enumerate(m_section_regex):\n",
    "        regex_enum = get_regex_enum(section_regex)\n",
    "        with timeout(seconds=5):\n",
    "            section_elements = sec_document.get_section_narrative(regex_enum)\n",
    "            results[f\"REGEX_{i}\"] = section_elements\n",
    "    return {section:convert_to_isd(section_narrative) for section, section_narrative in results.items()}"
   ]
  },
  {
   "cell_type": "markdown",
   "id": "c0c2949b",
   "metadata": {},
   "source": [
    "As we can see, the output now matches what we wanted at the beginning\n",
    "of the notebook."
   ]
  },
  {
   "cell_type": "code",
   "execution_count": null,
   "id": "f6403cb1",
   "metadata": {},
   "outputs": [],
   "source": [
    "risk_narrative = pipeline_api(text, [\"RISK_FACTORS\"])[\"RISK_FACTORS\"]\n",
    "risk_narrative[:5]"
   ]
  },
  {
   "cell_type": "code",
   "execution_count": null,
   "id": "2516c2d0-55e2-4d4c-9be9-cababa6a452c",
   "metadata": {},
   "outputs": [],
   "source": [
    "all_narratives = pipeline_api(text, [\"_ALL\"])\n",
    "for section, elems in all_narratives.items():\n",
    "    print(section)\n",
    "    print(elems[:4])\n",
    "    print(\"---------------\")"
   ]
  },
  {
   "cell_type": "code",
   "execution_count": null,
   "id": "de063b9d-a987-4396-86b7-5ba3bb74bc92",
   "metadata": {},
   "outputs": [],
   "source": []
  }
 ],
 "metadata": {
  "kernelspec": {
   "display_name": "Python 3 (ipykernel)",
   "language": "python",
   "name": "python3"
  },
  "language_info": {
   "codemirror_mode": {
    "name": "ipython",
    "version": 3
   },
   "file_extension": ".py",
   "mimetype": "text/x-python",
   "name": "python",
   "nbconvert_exporter": "python",
   "pygments_lexer": "ipython3",
   "version": "3.8.13"
  }
 },
 "nbformat": 4,
 "nbformat_minor": 5
}
